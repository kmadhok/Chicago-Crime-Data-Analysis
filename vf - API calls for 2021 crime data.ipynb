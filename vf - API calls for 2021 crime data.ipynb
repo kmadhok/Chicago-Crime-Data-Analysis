{
 "cells": [
  {
   "cell_type": "code",
   "execution_count": 3,
   "id": "855b700d",
   "metadata": {},
   "outputs": [
    {
     "name": "stderr",
     "output_type": "stream",
     "text": [
      "WARNING:root:Requests made without an app_token will be subject to strict throttling limits.\n"
     ]
    },
    {
     "name": "stdout",
     "output_type": "stream",
     "text": [
      "date                    200008\n",
      "location                195032\n",
      "district                200008\n",
      "block                   200008\n",
      "y_coordinate            195032\n",
      "latitude                195032\n",
      "description             200008\n",
      "location_description    199215\n",
      "updated_on              200008\n",
      "community_area          200008\n",
      "iucr                    200008\n",
      "x_coordinate            195032\n",
      "ward                    199997\n",
      "case_number             200008\n",
      "year                    200008\n",
      "domestic                200008\n",
      "fbi_code                200008\n",
      "longitude               195032\n",
      "beat                    200008\n",
      "primary_type            200008\n",
      "arrest                  200008\n",
      "id                      200008\n",
      "dtype: int64\n"
     ]
    }
   ],
   "source": [
    "import pandas as pd\n",
    "from sodapy import Socrata\n",
    "\n",
    "client = Socrata(\"data.cityofchicago.org\", None)\n",
    "\n",
    "results = client.get(\"dwme-t96c\", limit=200008)\n",
    "\n",
    "results_df = pd.DataFrame.from_records(results)\n",
    "print(results_df.count())\n",
    "results_df.to_csv('file_2021.csv')\n"
   ]
  },
  {
   "cell_type": "code",
   "execution_count": 2,
   "id": "67b6c208",
   "metadata": {},
   "outputs": [
    {
     "name": "stdout",
     "output_type": "stream",
     "text": [
      "Collecting sodapy\n",
      "  Downloading sodapy-2.2.0-py2.py3-none-any.whl (15 kB)\n",
      "Collecting requests>=2.28.1\n",
      "  Downloading requests-2.28.1-py3-none-any.whl (62 kB)\n",
      "\u001b[K     |████████████████████████████████| 62 kB 2.0 MB/s eta 0:00:01\n",
      "\u001b[?25hRequirement already satisfied: certifi>=2017.4.17 in /Users/zoey/opt/anaconda3/lib/python3.9/site-packages (from requests>=2.28.1->sodapy) (2021.10.8)\n",
      "Requirement already satisfied: urllib3<1.27,>=1.21.1 in /Users/zoey/opt/anaconda3/lib/python3.9/site-packages (from requests>=2.28.1->sodapy) (1.26.9)\n",
      "Requirement already satisfied: idna<4,>=2.5 in /Users/zoey/opt/anaconda3/lib/python3.9/site-packages (from requests>=2.28.1->sodapy) (3.3)\n",
      "Requirement already satisfied: charset-normalizer<3,>=2 in /Users/zoey/opt/anaconda3/lib/python3.9/site-packages (from requests>=2.28.1->sodapy) (2.0.4)\n",
      "Installing collected packages: requests, sodapy\n",
      "  Attempting uninstall: requests\n",
      "    Found existing installation: requests 2.27.1\n",
      "    Uninstalling requests-2.27.1:\n",
      "      Successfully uninstalled requests-2.27.1\n",
      "\u001b[31mERROR: pip's dependency resolver does not currently take into account all the packages that are installed. This behaviour is the source of the following dependency conflicts.\n",
      "conda-repo-cli 1.0.4 requires pathlib, which is not installed.\n",
      "anaconda-project 0.10.2 requires ruamel-yaml, which is not installed.\u001b[0m\n",
      "Successfully installed requests-2.28.1 sodapy-2.2.0\n",
      "Note: you may need to restart the kernel to use updated packages.\n"
     ]
    }
   ],
   "source": [
    "pip install sodapy"
   ]
  },
  {
   "cell_type": "code",
   "execution_count": null,
   "id": "d1e4ca99",
   "metadata": {},
   "outputs": [],
   "source": []
  }
 ],
 "metadata": {
  "kernelspec": {
   "display_name": "Python 3 (ipykernel)",
   "language": "python",
   "name": "python3"
  },
  "language_info": {
   "codemirror_mode": {
    "name": "ipython",
    "version": 3
   },
   "file_extension": ".py",
   "mimetype": "text/x-python",
   "name": "python",
   "nbconvert_exporter": "python",
   "pygments_lexer": "ipython3",
   "version": "3.9.12"
  }
 },
 "nbformat": 4,
 "nbformat_minor": 5
}
